{
 "cells": [
  {
   "cell_type": "markdown",
   "metadata": {},
   "source": [
    "# Visualisation des données avec Plotly\n",
    "\n",
    "A présent que vous savez manipuler les données avec pandas, vous allez apprendre à représenter les données sous forme de jolis graphiques à l'aide de la bibliothèque **Plotly Express**.  \n",
    "On utilisera le fichier **clean_travel_data.csv** comme base.\n",
    "\n",
    "Pour vous aider, voici la documentation officielle de Plotly :  \n",
    "https://plotly.com/python/plotly-express/\n",
    "\n",
    "N'hésitez pas à rechercher les fonctions, paramètres et exemples nécessaires pour réaliser les tâches demandées.  \n",
    "\n",
    "Chaque cellule de code est précédée d'une cellule TODO indiquant la liste des objectifs à atteindre.\n",
    "\n",
    "Répondez également aux quelques petites questions des TODO s'il y en a."
   ]
  },
  {
   "cell_type": "code",
   "execution_count": null,
   "id": "037a8a00",
   "metadata": {},
   "outputs": [],
   "source": [
    "# Il faut installer la bibliothèque plotly. On verra comment faire ça proprement plus tard.\n",
    "!pip install plotly"
   ]
  },
  {
   "cell_type": "markdown",
   "metadata": {},
   "source": [
    "# 1. Nombre total de photos par ville"
   ]
  },
  {
   "cell_type": "markdown",
   "metadata": {},
   "source": [
    "**TODO**\n",
    "\n",
    "- Importer plotly.express sous le nom px\n",
    "- Créer un graphique en barres représentant le total de photos par ville\n",
    "- Trier les villes selon le nombre de photos de manière décroissante\n",
    "- Afficher le graphique"
   ]
  },
  {
   "cell_type": "code",
   "execution_count": null,
   "metadata": {},
   "outputs": [],
   "source": [
    "# Write your code here"
   ]
  },
  {
   "cell_type": "markdown",
   "metadata": {},
   "source": [
    "# 2. Répartition des humeurs (mood) en camembert"
   ]
  },
  {
   "cell_type": "markdown",
   "metadata": {},
   "source": [
    "**TODO**\n",
    "\n",
    "- Créer un graphique en camembert basé sur la répartition des humeurs (colonne mood)\n",
    "- Afficher les pourcentages sur chaque tranche\n",
    "- Afficher le graphique"
   ]
  },
  {
   "cell_type": "code",
   "execution_count": null,
   "metadata": {},
   "outputs": [],
   "source": [
    "# Write your code here"
   ]
  },
  {
   "cell_type": "markdown",
   "metadata": {},
   "source": [
    "# 3. Évolution du nombre de photos dans le temps"
   ]
  },
  {
   "cell_type": "markdown",
   "metadata": {},
   "source": [
    "**TODO**\n",
    "\n",
    "- Créer un graphique en ligne avec la date sur l'axe des x et le nombre de photos sur l'axe des y\n",
    "- Colorer les lignes ou points selon la météo (weather)\n",
    "- Afficher le graphique\n",
    "- Que remarquez vous ? Qu'auriez du vous faire ?"
   ]
  },
  {
   "cell_type": "code",
   "execution_count": null,
   "metadata": {},
   "outputs": [],
   "source": [
    "# Write your code here"
   ]
  },
  {
   "cell_type": "markdown",
   "metadata": {},
   "source": [
    "# 4. Distribution du nombre de photos selon la météo"
   ]
  },
  {
   "cell_type": "markdown",
   "metadata": {},
   "source": [
    "**TODO**\n",
    "\n",
    "- Créer un diagramme en boîte (box plot) pour visualiser la répartition du nombre de photos selon la météo\n",
    "- Afficher le graphique\n",
    "- Quelles conclusions tirez-vous de ce graphe ?"
   ]
  },
  {
   "cell_type": "code",
   "execution_count": null,
   "metadata": {},
   "outputs": [],
   "source": [
    "# Write your code here"
   ]
  },
  {
   "cell_type": "markdown",
   "metadata": {},
   "source": [
    "# 5. Nuage de points photos vs humeur"
   ]
  },
  {
   "cell_type": "markdown",
   "metadata": {},
   "source": [
    "**TODO**\n",
    "\n",
    "- Créer un graphique de type scatter plot avec mood en abscisse et photos en ordonnée\n",
    "- Ajouter une info-bulle avec les noms de ville\n",
    "- Afficher le graphique"
   ]
  },
  {
   "cell_type": "code",
   "execution_count": null,
   "metadata": {},
   "outputs": [],
   "source": [
    "# Write your code here"
   ]
  }
 ],
 "metadata": {
  "kernelspec": {
   "display_name": "testenv",
   "language": "python",
   "name": "python3"
  },
  "language_info": {
   "codemirror_mode": {
    "name": "ipython",
    "version": 3
   },
   "file_extension": ".py",
   "mimetype": "text/x-python",
   "name": "python",
   "nbconvert_exporter": "python",
   "pygments_lexer": "ipython3",
   "version": "3.13.5"
  }
 },
 "nbformat": 4,
 "nbformat_minor": 5
}
