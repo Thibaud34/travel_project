{
 "cells": [
  {
   "cell_type": "markdown",
   "metadata": {},
   "source": [
    "# En voyage avec (des) pandas\n",
    "\n",
    "Suite à la première étape où vous avez découvert (ou révisé) des bases de Python, vous allez découvrir (ou réviser) l'utilisation de la bibliothèque **pandas** pour traiter un fichier csv travel_data.csv qui contient un carnet de voyage.\n",
    "\n",
    "Pour réaliser les exercices, utilisez la documentation officielle de pandas :  \n",
    "https://pandas.pydata.org/pandas-docs/stable/\n",
    "\n",
    "N'hésitez pas à rechercher les fonctions, méthodes et exemples nécessaires pour compléter les tâches demandées.  \n",
    "\n",
    "Chaque cellule de code est précédée d'une cellule TODO indiquant la liste des objectifs à atteindre.\n",
    "\n",
    "Répondez également dans le notebook aux petites questions proposées."
   ]
  },
  {
   "cell_type": "code",
   "execution_count": null,
   "id": "b5c50044",
   "metadata": {},
   "outputs": [],
   "source": [
    "# Il faut installer la bibliothèque pandas. On verra comment faire ça proprement plus tard.\n",
    "!pip install pandas"
   ]
  },
  {
   "cell_type": "markdown",
   "metadata": {},
   "source": [
    "# 1. Charger et afficher les données\n",
    "\n",
    "**TODO**\n",
    "\n",
    "- Importer la bibliothèque pandas sous l’alias `pd`  \n",
    "- Charger le fichier `travel_journal.csv` dans un DataFrame `df_trips`  \n",
    "- Afficher les 5 premières lignes du DataFrame  \n",
    "- Afficher les types de données des colonnes"
   ]
  },
  {
   "cell_type": "code",
   "execution_count": null,
   "metadata": {},
   "outputs": [],
   "source": [
    "# Write your code here"
   ]
  },
  {
   "cell_type": "markdown",
   "metadata": {},
   "source": [
    "# 2. Nettoyer les données manquantes\n",
    "\n",
    "**TODO**\n",
    "\n",
    "- Identifier les lignes avec des valeurs manquantes dans le DataFrame  \n",
    "- Remplacer les valeurs manquantes dans la colonne `weather` par `\"unknown\"`  \n",
    "- Convertir la colonne `date` en format datetime  \n",
    "- Trier le DataFrame par date croissante\n",
    "- Exporter les données dans un fichier clean_travel_data.csv\n",
    "- A votre avis quel autre type de vérifications pourrait-on faire afin de nettoyer les données ?"
   ]
  },
  {
   "cell_type": "code",
   "execution_count": null,
   "metadata": {},
   "outputs": [],
   "source": [
    "# Write your code here"
   ]
  },
  {
   "cell_type": "markdown",
   "metadata": {},
   "source": [
    "# 3. Filtrer et trier les voyages\n",
    "\n",
    "**TODO**\n",
    "\n",
    "- Extraire les voyages où la météo est `\"sunny\"` et le nombre de photos est supérieur à 100  \n",
    "- Trier ces voyages par nombre de photos décroissant  \n",
    "- Afficher les colonnes `city`, `date`, `photos` du résultat filtré"
   ]
  },
  {
   "cell_type": "code",
   "execution_count": null,
   "metadata": {},
   "outputs": [],
   "source": [
    "# Write your code here"
   ]
  },
  {
   "cell_type": "markdown",
   "metadata": {},
   "source": [
    "# 4. Groupements et agrégations\n",
    "\n",
    "**TODO**\n",
    "\n",
    "- Calculer le total des photos prises par ville  \n",
    "- Calculer la moyenne des photos selon la météo  \n",
    "- Compter le nombre de voyages par humeur (mood)"
   ]
  },
  {
   "cell_type": "code",
   "execution_count": null,
   "metadata": {},
   "outputs": [],
   "source": [
    "# Write your code here"
   ]
  }
 ],
 "metadata": {
  "kernelspec": {
   "display_name": "Python 3",
   "language": "python",
   "name": "python3"
  },
  "language_info": {
   "file_extension": ".py",
   "mimetype": "text/x-python",
   "name": "python",
   "version": "3.10.12"
  }
 },
 "nbformat": 4,
 "nbformat_minor": 5
}
